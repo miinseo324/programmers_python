{
  "nbformat": 4,
  "nbformat_minor": 0,
  "metadata": {
    "colab": {
      "provenance": [],
      "authorship_tag": "ABX9TyN+sO2eL5SQYh5juzqgXiSO",
      "include_colab_link": true
    },
    "kernelspec": {
      "name": "python3",
      "display_name": "Python 3"
    },
    "language_info": {
      "name": "python"
    }
  },
  "cells": [
    {
      "cell_type": "markdown",
      "metadata": {
        "id": "view-in-github",
        "colab_type": "text"
      },
      "source": [
        "<a href=\"https://colab.research.google.com/github/miinseo324/programmers_python/blob/main/level0_day3.ipynb\" target=\"_parent\"><img src=\"https://colab.research.google.com/assets/colab-badge.svg\" alt=\"Open In Colab\"/></a>"
      ]
    },
    {
      "cell_type": "markdown",
      "source": [
        "## 01. 특정한 문자를 대문자로 바꾸기\n",
        "영소문자로 이루어진 문자열 my_string과 영소문자 1글자로 이루어진 문자열 alp가 매개변수로 주어질 때, my_string에서 alp에 해당하는 모든 글자를 대문자로 바꾼 문자열을 return 하는 solution 함수를 작성해 주세요."
      ],
      "metadata": {
        "id": "Xg67y487ZvjP"
      }
    },
    {
      "cell_type": "markdown",
      "source": [
        "*my solution*"
      ],
      "metadata": {
        "id": "F5eeuF7haXmG"
      }
    },
    {
      "cell_type": "code",
      "execution_count": 1,
      "metadata": {
        "id": "l1W53eQ7vjCE"
      },
      "outputs": [],
      "source": [
        "def solution(my_string, alp):\n",
        "  for i in my_string:\n",
        "    if i == alp:\n",
        "      my_string = my_string.replace(alp, alp.upper())\n",
        "    return my_string"
      ]
    },
    {
      "cell_type": "markdown",
      "source": [
        "*other solution*"
      ],
      "metadata": {
        "id": "wN393RStaXAW"
      }
    },
    {
      "cell_type": "code",
      "source": [
        "def solution(my_string, alp):\n",
        "  return my_string.replace(alp, alp.upper())"
      ],
      "metadata": {
        "id": "5pGYCgGYa2TN"
      },
      "execution_count": 2,
      "outputs": []
    },
    {
      "cell_type": "markdown",
      "source": [
        "replace : 문자열을 변경하는 함수\n",
        "\n",
        "사용법 : 문자열명.replace(바꾸고 싶은 문자, 새로 바꿀 문자, 변경 횟수)\n",
        "\n",
        "만약, 변경 횟수에 값을 입력하지 않으면 문자열 전체를 변경한다. 기본값은 전체를 의미하는 count=-1로 지정되어 있다."
      ],
      "metadata": {
        "id": "mIC2olokbKnU"
      }
    },
    {
      "cell_type": "markdown",
      "source": [
        "## 02. 배열의 원소 삭제하기\n",
        "\n",
        "정수 배열 arr과 delete_list가 있습니다. arr의 원소 중 delete_list의 원소를 모두 삭제하고 남은 원소들은 기존의 arr에 있던 순서를 유지한 배열을 return 하는 solution 함수를 작성해 주세요."
      ],
      "metadata": {
        "id": "69Vk__ztgKe1"
      }
    },
    {
      "cell_type": "markdown",
      "source": [
        "*my soultion* - 1차 시도 실패"
      ],
      "metadata": {
        "id": "JAdALQlFgaux"
      }
    },
    {
      "cell_type": "code",
      "source": [
        "def solution(arr, delete_list):\n",
        "  for i in arr:\n",
        "    if i in delete_list:\n",
        "      arr.remove(i)\n",
        "  return arr"
      ],
      "metadata": {
        "id": "KYr-53unfbON"
      },
      "execution_count": 3,
      "outputs": []
    },
    {
      "cell_type": "markdown",
      "source": [
        "*my solution* - 2차 시도 성공\n",
        "\n",
        "for 문에서 돌리는 변수를 내부에서 조작하지 않는 것이 좋다. remove 대신 append 사용"
      ],
      "metadata": {
        "id": "3kpn9s9ags3Z"
      }
    },
    {
      "cell_type": "code",
      "source": [
        "def solution(arr, delete_list):\n",
        "  answer=[]\n",
        "  for i in arr:\n",
        "    if i not in delete_list:\n",
        "      answer.append(i)\n",
        "  return answer"
      ],
      "metadata": {
        "id": "sHuOp7u1hvY_"
      },
      "execution_count": 4,
      "outputs": []
    },
    {
      "cell_type": "markdown",
      "source": [
        "*other solution*\n",
        "\n",
        "풀이가 엄청 다르기 보다는 그냥 한줄로 씀"
      ],
      "metadata": {
        "id": "afnIOujrh7bh"
      }
    },
    {
      "cell_type": "code",
      "source": [
        "def solution(arr, delete_list):\n",
        "  return [i for i in arr if i not in delete_list]"
      ],
      "metadata": {
        "id": "nyJygFCGh-OL"
      },
      "execution_count": 5,
      "outputs": []
    },
    {
      "cell_type": "markdown",
      "source": [
        "## 03. 뒤에서 5등 위로\n",
        "\n",
        "정수로 이루어진 리스트 num_list가 주어집니다. num_list에서 가장 작은 5개의 수를 제외한 수들을 오름차순으로 담은 리스트를 return하도록 solution 함수를 완성해주세요."
      ],
      "metadata": {
        "id": "lQDXnR7riOxR"
      }
    },
    {
      "cell_type": "markdown",
      "source": [
        "*my_solution*"
      ],
      "metadata": {
        "id": "sWsCvz9SjDat"
      }
    },
    {
      "cell_type": "code",
      "source": [
        "def solution(num_list):\n",
        "  num_list.sort()\n",
        "  return num_list[5:]"
      ],
      "metadata": {
        "id": "RN8Zjqx4iNk9"
      },
      "execution_count": 6,
      "outputs": []
    },
    {
      "cell_type": "markdown",
      "source": [
        "*other solution*"
      ],
      "metadata": {
        "id": "quiuYklNjOaI"
      }
    },
    {
      "cell_type": "code",
      "source": [
        "def solution(num_list):\n",
        "  return sorted(num_list)[5:]"
      ],
      "metadata": {
        "id": "nshcfemxjQ6S"
      },
      "execution_count": 7,
      "outputs": []
    },
    {
      "cell_type": "markdown",
      "source": [
        "**sort()와 sorted()**\n",
        "\n",
        "<sort()>\n",
        "- 리스트명.sort() 로 사용된다.\n",
        "- 기존의 리스트를 정렬한다. (새로운 리스트 생성 X)\n",
        "\n",
        "<sorted()>\n",
        "- 새로운리스트명 = sorted(리스트명)\n",
        "- 새로운 리스트를 생성한다."
      ],
      "metadata": {
        "id": "KBWOFhovjW3G"
      }
    },
    {
      "cell_type": "markdown",
      "source": [
        "## 04. 배열 비교하기\n",
        "\n",
        "이 문제에서 두 정수 배열의 대소관계를 다음과 같이 정의합니다.\n",
        "- 두 배열의 길이가 다르다면, 배열의 길이가 긴 쪽이 더 큽니다.\n",
        "- 배열의 길이가 같다면 각 배열에 있는 모든 원소의 합을 비교하여 다르다면 더 큰 쪽이 크고, 같다면 같습니다.\n",
        "두 정수 배열 arr1과 arr2가 주어질 때, 위에서 정의한 배열의 대소관계에 대하여 arr2가 크다면 -1, arr1이 크다면 1, 두 배열이 같다면 0을 return 하는 solution 함수를 작성해 주세요."
      ],
      "metadata": {
        "id": "wSHqQnookCbC"
      }
    },
    {
      "cell_type": "markdown",
      "source": [
        "*my solution*"
      ],
      "metadata": {
        "id": "nB4qw0M-nxoa"
      }
    },
    {
      "cell_type": "code",
      "source": [
        "def solution(arr1, arr2):\n",
        "  if len(arr1) > len(arr2):\n",
        "    return 1\n",
        "  elif len(arr1) < len(arr2):\n",
        "    return -1\n",
        "  else:\n",
        "    if sum(arr1) > sum(arr2):\n",
        "      return 1\n",
        "    elif sum(arr1) < sum(arr2):\n",
        "      return -1\n",
        "    else:\n",
        "      return 0"
      ],
      "metadata": {
        "id": "yBAuErNznwub"
      },
      "execution_count": 8,
      "outputs": []
    },
    {
      "cell_type": "markdown",
      "source": [
        "*other solution*"
      ],
      "metadata": {
        "id": "VhIcifBEoByL"
      }
    },
    {
      "cell_type": "code",
      "source": [
        "def solution(arr1, arr2):\n",
        "  return (len(arr1)>len(arr2)) - (len(arr2) > len(arr1)) or (sum(arr1) > sum(arr2)) - (sum(arr2) > sum(arr1))"
      ],
      "metadata": {
        "id": "dxYjKjM1oDka"
      },
      "execution_count": 9,
      "outputs": []
    },
    {
      "cell_type": "markdown",
      "source": [
        "**중요**\n",
        "\n",
        "- or 연산 : 둘 중 하나라도 참이면 참, 둘 다 거짓이면 거짓\n",
        "- or 연산에서 A or B 이라고 할 때, A가 참이면 A 반환, B가 참이면 B 반환\n",
        "\n",
        "arr1의 길이가 크거나 합이 크면, (1-0) or (1-0) => 1\n",
        "\n",
        "arr2의 길이가 크거나 합이 크면, (0-1) or (0-1) => -1\n",
        "\n",
        "둘다 같은 경우, 0 or 0 => 0"
      ],
      "metadata": {
        "id": "CedKPpW2olnl"
      }
    },
    {
      "cell_type": "markdown",
      "source": [
        "## 05. 배열의 원소만큼 추가하기\n",
        "\n",
        "아무 원소도 들어있지 않은 빈 배열 X가 있습니다. 양의 정수 배열 arr가 매개변수로 주어질 때, arr의 앞에서부터 차례대로 원소를 보면서 원소가 a라면 X의 맨 뒤에 a를 a번 추가하는 일을 반복한 뒤의 배열 X를 return 하는 solution 함수를 작성해 주세요."
      ],
      "metadata": {
        "id": "wMRs_GlNqfzq"
      }
    },
    {
      "cell_type": "markdown",
      "source": [
        "*my solution*"
      ],
      "metadata": {
        "id": "pWpkZMrwrgyO"
      }
    },
    {
      "cell_type": "code",
      "source": [
        "def solution(arr):\n",
        "  answer = []\n",
        "  for i in arr:\n",
        "    answer += [i for j in range(i)]\n",
        "  return answer"
      ],
      "metadata": {
        "id": "jaA8TTKXqfDe"
      },
      "execution_count": 10,
      "outputs": []
    },
    {
      "cell_type": "markdown",
      "source": [
        "*other solution*"
      ],
      "metadata": {
        "id": "B8Q1ifdZrrsL"
      }
    },
    {
      "cell_type": "code",
      "source": [
        "def solution(arr):\n",
        "  return [i for i in arr for j in range(i)]"
      ],
      "metadata": {
        "id": "IpMpaXaZrtgE"
      },
      "execution_count": null,
      "outputs": []
    },
    {
      "cell_type": "markdown",
      "source": [
        "## 06. rny_string\n",
        "\n",
        "'m'과 'rn'이 모양이 비슷하게 생긴 점을 활용해 문자열에 장난을 하려고 합니다. 문자열 rny_string이 주어질 때, rny_string의 모든 'm'을 'rn'으로 바꾼 문자열을 return 하는 solution 함수를 작성해 주세요."
      ],
      "metadata": {
        "id": "xl7NbYnBsSf-"
      }
    },
    {
      "cell_type": "code",
      "source": [
        "def solution(rny_string):\n",
        "  return rny_string.replace('m', 'rn')"
      ],
      "metadata": {
        "id": "M83j-MDOskxd"
      },
      "execution_count": 11,
      "outputs": []
    },
    {
      "cell_type": "markdown",
      "source": [
        "## 07. 문자열 바꿔서 찾기\n",
        "\n",
        "문자 \"A\"와 \"B\"로 이루어진 문자열 myString과 pat가 주어집니다. myString의 \"A\"를 \"B\"로, \"B\"를 \"A\"로 바꾼 문자열의 연속하는 부분 문자열 중 pat이 있으면 1을 아니면 0을 return 하는 solution 함수를 완성하시오."
      ],
      "metadata": {
        "id": "4bPSLlAwu9DT"
      }
    },
    {
      "cell_type": "markdown",
      "source": [
        "*my solution* - 1차 시도 실패"
      ],
      "metadata": {
        "id": "XO0yBCupvS4O"
      }
    },
    {
      "cell_type": "code",
      "source": [
        "def solution(myString, pat):\n",
        "  pat.replace('A', 'C')\n",
        "  pat.replace('B', 'A')\n",
        "  pat.replace('C', 'B')\n",
        "  if pat in myString:\n",
        "    return 1\n",
        "  else:\n",
        "    return 0"
      ],
      "metadata": {
        "id": "2c-G_8FbvV_6"
      },
      "execution_count": 12,
      "outputs": []
    },
    {
      "cell_type": "markdown",
      "source": [
        "*다른 풀이 참고*"
      ],
      "metadata": {
        "id": "HEu-w6X9wYSP"
      }
    },
    {
      "cell_type": "code",
      "source": [
        "def solution(myString, pat):\n",
        "  return int(pat in myString.replace('A', 'C').replace('B', 'A').replace('C','B'))"
      ],
      "metadata": {
        "id": "7qW8LvzDwa2w"
      },
      "execution_count": 13,
      "outputs": []
    },
    {
      "cell_type": "markdown",
      "source": [
        "replace를 여러 번 붙여서 쓰기 가능\n",
        "\n",
        "문자열.replace(a,b).replace(c,d).replace(e,r)"
      ],
      "metadata": {
        "id": "dn7-LwV2ww2L"
      }
    },
    {
      "cell_type": "markdown",
      "source": [
        "## 08. x 사이의 개수\n",
        "\n",
        "문자열 myString이 주어집니다. myString을 문자 \"x\"를 기준으로 나눴을 때 나눠진 문자열 각각의 길이를 순서대로 저장한 배열을 return 하는 solution 함수를 완성해 주세요."
      ],
      "metadata": {
        "id": "6eWJ19wAxRzc"
      }
    },
    {
      "cell_type": "markdown",
      "source": [
        "*my solution*"
      ],
      "metadata": {
        "id": "l6aX8bYZxeo_"
      }
    },
    {
      "cell_type": "code",
      "source": [
        "def solution(myString):\n",
        "  answer = []\n",
        "  for i in list(myString.split('x')):\n",
        "    answer.append(len(i))\n",
        "  return answer"
      ],
      "metadata": {
        "id": "DNC8R_GTxgLm"
      },
      "execution_count": 14,
      "outputs": []
    },
    {
      "cell_type": "markdown",
      "source": [
        "*other solution*"
      ],
      "metadata": {
        "id": "zNUcRpbjxrmR"
      }
    },
    {
      "cell_type": "code",
      "source": [
        "def solution(myString):\n",
        "  return [len(w) for w in myString.split('x')]"
      ],
      "metadata": {
        "id": "iuI7e-SJxtez"
      },
      "execution_count": null,
      "outputs": []
    },
    {
      "cell_type": "markdown",
      "source": [
        "## 09. 공백으로 구분하기 2\n",
        "\n",
        "단어가 공백 한 개 이상으로 구분되어 있는 문자열 my_string이 매개변수로 주어질 때, my_string에 나온 단어를 앞에서부터 순서대로 담은 문자열 배열을 return 하는 solution 함수를 작성해 주세요."
      ],
      "metadata": {
        "id": "OhlrHDeUx1km"
      }
    },
    {
      "cell_type": "code",
      "source": [
        "def solution(my_string):\n",
        "  return [i for i in my_string.split()]"
      ],
      "metadata": {
        "id": "p7POOcbsyOB6"
      },
      "execution_count": 15,
      "outputs": []
    },
    {
      "cell_type": "markdown",
      "source": [
        "**lambda 함수 사용법**\n",
        "\n",
        "lambda 변수 : 표현식\n",
        "\n",
        "(함수의 이름이 필요없음)\n",
        "\n",
        "- add = lambda x, y : x+y\n",
        "- doubled_numbers = list(map(lambda x:x*2, numbers))"
      ],
      "metadata": {
        "id": "jYEqfSVEyhhD"
      }
    },
    {
      "cell_type": "markdown",
      "source": [
        "## 10. 배열의 길이에 따라 다른 연산하기\n",
        "\n",
        "정수 배열 arr과 정수 n이 매개변수로 주어집니다. arr의 길이가 홀수라면 arr의 모든 짝수 인덱스 위치에 n을 더한 배열을, arr의 길이가 짝수라면 arr의 모든 홀수 인덱스 위치에 n을 더한 배열을 return 하는 solution 함수를 작성해 주세요.\n"
      ],
      "metadata": {
        "id": "f-zQ1IJ82_kF"
      }
    },
    {
      "cell_type": "markdown",
      "source": [
        "*my solution*"
      ],
      "metadata": {
        "id": "ffMxyPNG3uue"
      }
    },
    {
      "cell_type": "code",
      "source": [
        "def solution(arr, n):\n",
        "  if len(arr)%2 == 0:\n",
        "    for i in range(len(arr)//2):\n",
        "      arr[i*2+1] += n\n",
        "  else:\n",
        "    for i in range(len(arr)//2+1):\n",
        "      arr[i*2] += n\n",
        "  return arr"
      ],
      "metadata": {
        "id": "LgsK_ZOd1D2y"
      },
      "execution_count": 16,
      "outputs": []
    },
    {
      "cell_type": "markdown",
      "source": [
        "*other solution*"
      ],
      "metadata": {
        "id": "tjQdkgFU3xPa"
      }
    },
    {
      "cell_type": "code",
      "source": [
        "def solution(arr, n):\n",
        "  N = len(arr)\n",
        "  if N%2:\n",
        "    for i in range(0, N, 2):\n",
        "      arr[i] += n\n",
        "  else:\n",
        "    for i in range(1, N, 2):\n",
        "      arr[i] += n\n",
        "  return arr"
      ],
      "metadata": {
        "id": "1G4I9NK03zRz"
      },
      "execution_count": 17,
      "outputs": []
    }
  ]
}