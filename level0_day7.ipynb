{
  "nbformat": 4,
  "nbformat_minor": 0,
  "metadata": {
    "colab": {
      "provenance": [],
      "authorship_tag": "ABX9TyN7QxDoR0a3GkkNp73bFBJR",
      "include_colab_link": true
    },
    "kernelspec": {
      "name": "python3",
      "display_name": "Python 3"
    },
    "language_info": {
      "name": "python"
    }
  },
  "cells": [
    {
      "cell_type": "markdown",
      "metadata": {
        "id": "view-in-github",
        "colab_type": "text"
      },
      "source": [
        "<a href=\"https://colab.research.google.com/github/miinseo324/programmers_python/blob/main/level0_day7.ipynb\" target=\"_parent\"><img src=\"https://colab.research.google.com/assets/colab-badge.svg\" alt=\"Open In Colab\"/></a>"
      ]
    },
    {
      "cell_type": "markdown",
      "source": [
        "## 01. 문자열 정렬하기\n",
        "\n",
        "영어 대소문자로 이루어진 문자열 my_string이 매개변수로 주어질 때, my_string을 모두 소문자로 바꾸고 알파벳 순서대로 정렬한 문자열을 return 하도록 solution 함수를 완성해보세요."
      ],
      "metadata": {
        "id": "sTAPcrF8U_Pv"
      }
    },
    {
      "cell_type": "markdown",
      "source": [
        "*my solution*"
      ],
      "metadata": {
        "id": "s9krFfYCWCUY"
      }
    },
    {
      "cell_type": "code",
      "source": [
        "def solution(my_string):\n",
        "  answer = list(my_string.lower())\n",
        "  return ''.join(sorted(answer))"
      ],
      "metadata": {
        "id": "fnhEjwmKV7Mp"
      },
      "execution_count": 1,
      "outputs": []
    },
    {
      "cell_type": "markdown",
      "source": [
        "*other solution*"
      ],
      "metadata": {
        "id": "KR65l2gHWGss"
      }
    },
    {
      "cell_type": "code",
      "execution_count": 2,
      "metadata": {
        "id": "of53OIcCU5mQ"
      },
      "outputs": [],
      "source": [
        "def solution(my_string):\n",
        "  return ''.join(sorted(my_string.lower()))"
      ]
    },
    {
      "cell_type": "markdown",
      "source": [
        "**join 같은 함수들을 문자열 때 쓰는 건지 리스트 때 쓰는 건지 헷갈림 -> 이거 정리해야 함**"
      ],
      "metadata": {
        "id": "2VwBKMSKWSVj"
      }
    },
    {
      "cell_type": "markdown",
      "source": [
        "## 02. 특별한 이차원 배열 1\n",
        "\n",
        "정수 n이 매개변수로 주어질 때, 다음과 같은 n X n 크기의 이차원 배열 arr를 return 하는 solution 함수를 작성해주세요"
      ],
      "metadata": {
        "id": "J9zXWk23WcHM"
      }
    },
    {
      "cell_type": "markdown",
      "source": [
        "*my solution*"
      ],
      "metadata": {
        "id": "F8lM325YXtNI"
      }
    },
    {
      "cell_type": "code",
      "source": [
        "def solution(n):\n",
        "  answer = []\n",
        "  for i in range(n):\n",
        "    cnt = []\n",
        "    for j in range(n):\n",
        "      cnt.append(0)\n",
        "    answer.append(cnt)\n",
        "  for i in range(n):\n",
        "    for j in range(n):\n",
        "      if i==j:\n",
        "        answer[i][j]=1\n",
        "  return answer"
      ],
      "metadata": {
        "id": "HyOQcb-iXuuR"
      },
      "execution_count": 3,
      "outputs": []
    },
    {
      "cell_type": "markdown",
      "source": [
        "*other solution*"
      ],
      "metadata": {
        "id": "PFq_IBLVYAms"
      }
    },
    {
      "cell_type": "code",
      "source": [
        "def solution(n):\n",
        "  answer = [[0]*n for i in range(n)]\n",
        "  for i in range(n):\n",
        "    answer[i][j]=1\n",
        "  return answer"
      ],
      "metadata": {
        "id": "wlutlG8hYBye"
      },
      "execution_count": 4,
      "outputs": []
    },
    {
      "cell_type": "markdown",
      "source": [
        "## 03. 간단한 식 계산하기\n",
        "\n",
        "문자열 binomial이 매개변수로 주어집니다 binomial은 \"a op b\" 형태의 이항식이고 a와 b는 음이 아닌 정수, op는 '+', '-', '*' 중 하나입니다. 주어진 식을 계산한 정수를 return 하는 solution 함수를 작성해주세요"
      ],
      "metadata": {
        "id": "HQqV2XRdYfdb"
      }
    },
    {
      "cell_type": "markdown",
      "source": [
        "*my solution*"
      ],
      "metadata": {
        "id": "xWYBajePY_-U"
      }
    },
    {
      "cell_type": "code",
      "source": [
        "def solution(binomial):\n",
        "  return eval(binomial)"
      ],
      "metadata": {
        "id": "K3v33PpiZBgA"
      },
      "execution_count": 5,
      "outputs": []
    },
    {
      "cell_type": "markdown",
      "source": [
        "**eval을 이용하면, 문자열 안에 수식이 있을 경우 수식문으로 인식해서 계산해준다**"
      ],
      "metadata": {
        "id": "Vqd720yaZF71"
      }
    },
    {
      "cell_type": "markdown",
      "source": [
        "## 04. 배열 만들기 3\n",
        "\n",
        "정수 배열 arr와 2개의 구간이 담긴 배열 intervals가 주어집니다. intervals는 항상 [[a1, b1], [a2, b2]]의 꼴로 주어지며 각 구간은 닫힌 구간입니다. 닫힌 구간은 양 끝값과 그 사이의 값을 모두 포함하는 구간을 의미합니다. 이 때 배열 arr의 첫 번째 구간에 해당하는 배열을 앞뒤로 붙여 새로운 배열을 만들어 return 하는 solution 함수를 완성해 주세요."
      ],
      "metadata": {
        "id": "ryXVHoURZORT"
      }
    },
    {
      "cell_type": "markdown",
      "source": [
        "*my solution*"
      ],
      "metadata": {
        "id": "RbKo2OCjaKpR"
      }
    },
    {
      "cell_type": "code",
      "source": [
        "def solution(arr, intervals):\n",
        "  return arr[intervals[0][0]:intervals[0][1]+1] + arr[intervals[1][0]:intervals[1][1]+1]"
      ],
      "metadata": {
        "id": "M1vcC-e2aM5m"
      },
      "execution_count": 7,
      "outputs": []
    },
    {
      "cell_type": "markdown",
      "source": [
        "*other solution*"
      ],
      "metadata": {
        "id": "yy3uwbKhacE8"
      }
    },
    {
      "cell_type": "code",
      "source": [
        "def solution(arr, intervals):\n",
        "  s1, e1 = intervals[0]\n",
        "  s2, e2 = intervals[1]\n",
        "  return arr[s1:e1+1] + arr[s2:e2+1]"
      ],
      "metadata": {
        "id": "Zyt2OG3jadcY"
      },
      "execution_count": 8,
      "outputs": []
    },
    {
      "cell_type": "markdown",
      "source": [
        "## 05. 주사위 게임 2\n",
        "\n",
        "1~6까지 숫자가 적힌 주사위가 세 개가 있다. 세 주사위를 굴렸을 때 나오는 숫자를 a, b, c 라고 했을 때 얻는 점수는 다음과 같다.\n",
        "\n",
        "세 숫자가 모두 다르다면, a+b+c\n",
        "\n",
        "세 숫자 중 두 수만 같다면, (a+b+c)*(a^2+b^2+c^2)\n",
        "\n",
        "세 숫자가 모두 같다면, (a+b+c)*(a^2+b^2+c^2)*(a^3+b^3+c^3)\n"
      ],
      "metadata": {
        "id": "KRn_7qJkb3_k"
      }
    },
    {
      "cell_type": "code",
      "source": [
        "def solution(a,b,c):\n",
        "  if a==b==c:\n",
        "    return (a+b+c)*(a**2+b**2+c**2)*(a**3+b**3+c**3)\n",
        "  elif a!=b and b!=c and c!=a:\n",
        "    return a+b+c\n",
        "  else:\n",
        "    return (a*b*c)*(a**2+b**2+c**2)"
      ],
      "metadata": {
        "id": "VUxPc34ScYkW"
      },
      "execution_count": 9,
      "outputs": []
    },
    {
      "cell_type": "markdown",
      "source": [
        "*other solution*"
      ],
      "metadata": {
        "id": "FEUmeCH8cwK5"
      }
    },
    {
      "cell_type": "code",
      "source": [
        "def solution(a,b,c):\n",
        "  check=len(set([a,b,c]))\n",
        "  if check==1:\n",
        "    return 3*a*3*(a**2)*3*(a**3)\n",
        "  elif check==2:\n",
        "    return (a+b+c)*(a**2+b**2+c**2)\n",
        "  else:\n",
        "    return (a+b+c)"
      ],
      "metadata": {
        "id": "c4uqJYHKcxdn"
      },
      "execution_count": 10,
      "outputs": []
    },
    {
      "cell_type": "markdown",
      "source": [
        "## 06. 문자열 잘라서 정리하기\n",
        "\n",
        "문자열 myString이 주어집니다. \"x\"를 기준으로 해당 문자열을 잘라내 배열을 만든 후 사전순으로 정렬한 배열을 return 하는 solution 함수를 완성해 주세요"
      ],
      "metadata": {
        "id": "nEbJEQLX7m_R"
      }
    },
    {
      "cell_type": "markdown",
      "source": [
        "*my solution*"
      ],
      "metadata": {
        "id": "pcW8pNyC7zCJ"
      }
    },
    {
      "cell_type": "code",
      "source": [
        "def solution(myString):\n",
        "  answer = sorted(myString.split('x'))\n",
        "  return [x for x in answer if x]"
      ],
      "metadata": {
        "id": "-nqchLhO7y0x"
      },
      "execution_count": 1,
      "outputs": []
    },
    {
      "cell_type": "markdown",
      "source": [
        "*other solution*"
      ],
      "metadata": {
        "id": "sdmbSGCR8VN3"
      }
    },
    {
      "cell_type": "code",
      "source": [
        "def solution(myString):\n",
        "  return sorted(ch for ch in myString.split('x') if ch)"
      ],
      "metadata": {
        "id": "sMvlZA528WkP"
      },
      "execution_count": 2,
      "outputs": []
    },
    {
      "cell_type": "markdown",
      "source": [
        "**리스트 안, 빈 문자 요소 제거하기**\n",
        "\n",
        "1. [x for x in list if x]\n",
        "\n",
        "  빈 문자 = False 이므로,\n",
        "\n",
        "  만약, x가 빈문자가 아니면 리스트에 넣어라 ~\n",
        "\n",
        "2. filter 사용\n",
        "\n",
        "  filter(None, list) == filter(lambda x : x is not None, list)를 의미한다.\n",
        "\n",
        "  **filter에 대해서도 알아보기**"
      ],
      "metadata": {
        "id": "vNnQ6V2Q8dY9"
      }
    },
    {
      "cell_type": "markdown",
      "source": [
        "## 07. 외계 행성의 나이\n",
        "\n",
        "우주여행을 하던 머쓱이는 ~\n",
        "\n",
        "a:0, b:1 ~ j:9로 표현한다. age가 23으로 주어졌을 때, cd를 return 하도록 solution 함수를 완성해주세요"
      ],
      "metadata": {
        "id": "H8zU4jx79Ejr"
      }
    },
    {
      "cell_type": "markdown",
      "source": [
        "*my solution*"
      ],
      "metadata": {
        "id": "Y3cGvJSe-fD1"
      }
    },
    {
      "cell_type": "code",
      "source": [
        "def solution(age):\n",
        "  answer = [chr(int(i)+97) for i in str(age)]\n",
        "  return ''.join(answer)"
      ],
      "metadata": {
        "id": "NAKc-92U-gez"
      },
      "execution_count": 3,
      "outputs": []
    },
    {
      "cell_type": "markdown",
      "source": [
        "**문자를 아스키 코드로, 아스키 코드를 문자로**\n",
        "\n",
        "- ord(문자) : 아스키 코드 반환\n",
        "- chr(숫자) : 숫자에 맞는 아스키 코드 반환"
      ],
      "metadata": {
        "id": "Z4Lj_ysI-orW"
      }
    }
  ]
}