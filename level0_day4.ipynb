{
  "nbformat": 4,
  "nbformat_minor": 0,
  "metadata": {
    "colab": {
      "provenance": [],
      "authorship_tag": "ABX9TyOzELssCjnD3DlQ4WhVvPtp",
      "include_colab_link": true
    },
    "kernelspec": {
      "name": "python3",
      "display_name": "Python 3"
    },
    "language_info": {
      "name": "python"
    }
  },
  "cells": [
    {
      "cell_type": "markdown",
      "metadata": {
        "id": "view-in-github",
        "colab_type": "text"
      },
      "source": [
        "<a href=\"https://colab.research.google.com/github/miinseo324/programmers_python/blob/main/level0_day4.ipynb\" target=\"_parent\"><img src=\"https://colab.research.google.com/assets/colab-badge.svg\" alt=\"Open In Colab\"/></a>"
      ]
    },
    {
      "cell_type": "markdown",
      "source": [
        "## 01. 원하는 문자열 찾기\n",
        "\n",
        "알파벳으로 이루어진 문자열 myString과 pat이 주어집니다. myString의 연속된 부분 문자열 중 pat이 존재하면 1을 그렇지 않으면 0을 return 하는 solution 함수를 완성해주세요.\n",
        "\n",
        "단, 알파벳 대문자와 소문자는 구분하지 않습니다."
      ],
      "metadata": {
        "id": "T2iN4-TYYURz"
      }
    },
    {
      "cell_type": "markdown",
      "source": [
        "*my solution*"
      ],
      "metadata": {
        "id": "FWM3jKuIYxYw"
      }
    },
    {
      "cell_type": "code",
      "execution_count": 1,
      "metadata": {
        "id": "4jAiBS5iV7Sg"
      },
      "outputs": [],
      "source": [
        "def solution(myString, pat):\n",
        "  if pat.lower() in myString.lower():\n",
        "    return 1\n",
        "  else:\n",
        "    return 0"
      ]
    },
    {
      "cell_type": "markdown",
      "source": [
        "*other solution*"
      ],
      "metadata": {
        "id": "EV37PtviY8kg"
      }
    },
    {
      "cell_type": "code",
      "source": [
        "def solution(myString, pat):\n",
        "  return int(pat.lower() in myString.lower())"
      ],
      "metadata": {
        "id": "8FrQV7AEY-sI"
      },
      "execution_count": 2,
      "outputs": []
    },
    {
      "cell_type": "markdown",
      "source": [
        "*Boolean 사용법 익히자*"
      ],
      "metadata": {
        "id": "Kakvp72nZGPU"
      }
    },
    {
      "cell_type": "markdown",
      "source": [
        "## 02. 길이에 따른 연산\n",
        "\n",
        "정수가 담긴 리스트 num_list가 주어질 때, 리스트의 길이가 11 이상이면 리스트에 있는 모든 원소의 합을, 10 이하이면 모든 원소의 곱을 return하도록 solution 함수를 완성해주세요."
      ],
      "metadata": {
        "id": "PV6Yh9i8ZI-Z"
      }
    },
    {
      "cell_type": "markdown",
      "source": [
        "*my solution*"
      ],
      "metadata": {
        "id": "s65EnhF6bItt"
      }
    },
    {
      "cell_type": "code",
      "source": [
        "from re import A\n",
        "def solution(num_list):\n",
        "  if len(num_list) > 10:\n",
        "    return sum(num_list)\n",
        "  else:\n",
        "    for i in num_list:\n",
        "      answer *= i\n",
        "    return answer"
      ],
      "metadata": {
        "id": "WD-s_tXpayP9"
      },
      "execution_count": 3,
      "outputs": []
    },
    {
      "cell_type": "markdown",
      "source": [
        "*other solution*"
      ],
      "metadata": {
        "id": "1KqWb0dNbG0h"
      }
    },
    {
      "cell_type": "code",
      "source": [
        "def solution(num_list):\n",
        "  if len(num_list) >= 11:\n",
        "    return eval('+'.join(list(map(str, num_list))))\n",
        "  else:\n",
        "    return eval('*'.join(list(map(str, num_list))))"
      ],
      "metadata": {
        "id": "s_lS2WjubLbj"
      },
      "execution_count": 4,
      "outputs": []
    },
    {
      "cell_type": "markdown",
      "source": [
        "**eval(expression)**\n",
        "\n",
        "eval 함수는 매개 변수로 받은 expression(=식)을 문자열로 받아서, 실행하는 함수이다.\n",
        "문자열로 식을 받으면 eval 함수가 계산해준다.\n",
        "\n",
        "eval(\"1+2\") >> 3"
      ],
      "metadata": {
        "id": "vPqoBnXhdD-u"
      }
    },
    {
      "cell_type": "markdown",
      "source": [
        "## 03. 할 일 목록\n",
        "\n",
        "오늘 해야 할 일이 담긴 문자열 배열 todo_list와 각각의 일을 지금 마쳤는지를 나타내는 boolean 배열 finished가 매개 변수로 주어질 때, todo_list에서 아직 마치지 못한 일들을 순서대로 담은 문자열 배열을 return 하는 solution 함수를 작성해 주세요."
      ],
      "metadata": {
        "id": "SZn09JaudZCi"
      }
    },
    {
      "cell_type": "markdown",
      "source": [
        "*my solution*"
      ],
      "metadata": {
        "id": "7DtV75ivgKN8"
      }
    },
    {
      "cell_type": "code",
      "source": [
        "def solution(todo_list, finished):\n",
        "  answer = []\n",
        "  for i in range(len(finished)):\n",
        "    if finished[i] == False:\n",
        "      answer.append(todo_list[i])\n",
        "  return answer"
      ],
      "metadata": {
        "id": "q6fcypPTgJzF"
      },
      "execution_count": 5,
      "outputs": []
    },
    {
      "cell_type": "markdown",
      "source": [
        "*other solution*\n",
        "\n",
        "**zip 함수란?**\n",
        "\n",
        "list1 = [1,2,3,4]\n",
        "list2 = ['one', 'two', 'three', 'four']\n",
        "\n",
        "for x,y in zip(list1, list2):\n",
        "  print(x, y)\n",
        "\n",
        "출력 결과>>\n",
        "\n",
        "1 one\n",
        "\n",
        "2 two\n",
        "\n",
        "3 three\n",
        "\n",
        "4 four"
      ],
      "metadata": {
        "id": "0-8pfKFZgbWL"
      }
    },
    {
      "cell_type": "code",
      "source": [
        "def solution(todo_list, finished):\n",
        "  return [x for x, b in zip(todo_list, finished) if not b]"
      ],
      "metadata": {
        "id": "9NK9V7HCg-89"
      },
      "execution_count": 6,
      "outputs": []
    },
    {
      "cell_type": "markdown",
      "source": [
        "## 04. 글자 이어 붙여 문자열 만들기\n",
        "\n",
        "문자열 my_string과 정수 배열 index_list가 매개변수로 주어집니다. my_string의 index_list의 원소들에 해당하는 인덱스의 글자들을 순서대로 이어 붙인 문자열을 return 하는 solution 함수를 작성해 주세요."
      ],
      "metadata": {
        "id": "blZOB1qHjmNH"
      }
    },
    {
      "cell_type": "markdown",
      "source": [
        "*my solution*"
      ],
      "metadata": {
        "id": "7ltzXTIQj_XY"
      }
    },
    {
      "cell_type": "code",
      "source": [
        "def solution(my_string, index_list):\n",
        "  answer = ''\n",
        "  for i in index_list:\n",
        "    answer += my_string[i]\n",
        "  return answer"
      ],
      "metadata": {
        "id": "EuXOtk30kBHt"
      },
      "execution_count": 7,
      "outputs": []
    },
    {
      "cell_type": "markdown",
      "source": [
        "*other solution*"
      ],
      "metadata": {
        "id": "BGjEby4_kKWe"
      }
    },
    {
      "cell_type": "code",
      "source": [
        "def solution(my_string, index_list):\n",
        "  return ''.join([my_string[idx] for idx in index_list])"
      ],
      "metadata": {
        "id": "Uc2IBMshkMN3"
      },
      "execution_count": 8,
      "outputs": []
    },
    {
      "cell_type": "markdown",
      "source": [
        "## 05. 문자열의 뒤의 n 글자\n",
        "\n",
        "문자열 my_string과 정수 n이 매개변수로 주어질 때, my_string의 뒤의 n 글자로 이루어진 문자열을 return 하는 solution 함수를 작성해주세요."
      ],
      "metadata": {
        "id": "Oq8sv5fxku7m"
      }
    },
    {
      "cell_type": "markdown",
      "source": [
        "*my solution*\n",
        "\n",
        "문자열은 리스트 기능도 있다는 것을 인지 못함"
      ],
      "metadata": {
        "id": "N-yqH_Hyk8O3"
      }
    },
    {
      "cell_type": "code",
      "source": [
        "def solution(my_string, n):\n",
        "  return ''.join(list(my_string)[-n:])"
      ],
      "metadata": {
        "id": "kbEqYuBolBE4"
      },
      "execution_count": 9,
      "outputs": []
    },
    {
      "cell_type": "markdown",
      "source": [
        "*other solution*"
      ],
      "metadata": {
        "id": "kA9dLggWlILW"
      }
    },
    {
      "cell_type": "code",
      "source": [
        "def solution(my_string, n):\n",
        "  return my_string[-n:]"
      ],
      "metadata": {
        "id": "ymUMad2YlJet"
      },
      "execution_count": 10,
      "outputs": []
    },
    {
      "cell_type": "markdown",
      "source": [
        "## 06. 접미사인지 확인하기\n",
        "\n",
        "어떤 문자열에 대해서 접미사는 특정 인덱스부터 시작하는 문자열을 의미합니다. 예를 들어, \"banana\"의 모든 접미사는 \"banana\", \"anana\", \"nana\", \"ana\", \"na\", \"a\" 입니다.\n",
        "문자열 my_string과 is_suffix가 주어질 때, is_suffix가 my_string의 접미사라면 1을, 아니면 0을 return 하는 solution 함수를 작성해 주세요."
      ],
      "metadata": {
        "id": "20NlEtbil3pQ"
      }
    },
    {
      "cell_type": "markdown",
      "source": [
        "*my solution*"
      ],
      "metadata": {
        "id": "Br1mHce4nF0v"
      }
    },
    {
      "cell_type": "code",
      "source": [
        "def solution(my_string, is_suffix):\n",
        "  if my_string[-len(is_suffix):] == is_surffix:\n",
        "    return 1\n",
        "  else:\n",
        "    return 0"
      ],
      "metadata": {
        "id": "-fMDoMcGnH0t"
      },
      "execution_count": 11,
      "outputs": []
    },
    {
      "cell_type": "markdown",
      "source": [
        "*other solution*"
      ],
      "metadata": {
        "id": "WpgUxhDGncB_"
      }
    },
    {
      "cell_type": "code",
      "source": [
        "def solution(my_string, is_suffix):\n",
        "  return int(my_string.endswith(is_suffix))"
      ],
      "metadata": {
        "id": "b3q8RFrFndcp"
      },
      "execution_count": 12,
      "outputs": []
    },
    {
      "cell_type": "markdown",
      "source": [
        "**endswith**\n",
        "\n",
        "endswitch(끝나는 문자, 문자열의 시작, 문자열의 끝)\n",
        "\n",
        "**startswith**\n",
        "\n",
        "startswith(시작하는 문자, 시작 지점)"
      ],
      "metadata": {
        "id": "tr1nsLF_oGBF"
      }
    },
    {
      "cell_type": "markdown",
      "source": [
        "## 07. 배열 만들기 1\n",
        "\n",
        "정수 n과 k가 주어졌을 때, 1이상 n 이하의 정수 중에서 k의 배수를 오름차순으로 저장한 배열을 return 하는 solution 함수를 완성해 주세요."
      ],
      "metadata": {
        "id": "Nk_yFGFKoeKm"
      }
    },
    {
      "cell_type": "markdown",
      "source": [
        "*my solution*"
      ],
      "metadata": {
        "id": "vV9dCeiVocf1"
      }
    },
    {
      "cell_type": "code",
      "source": [
        "def solution(n, k):\n",
        "  answer =[]\n",
        "  for i in range(1, n+1):\n",
        "    if i%k == 0:\n",
        "      answer.append(i)\n",
        "  return answer"
      ],
      "metadata": {
        "id": "8_ZwxCqYppG7"
      },
      "execution_count": 13,
      "outputs": []
    },
    {
      "cell_type": "markdown",
      "source": [
        "*other solution*"
      ],
      "metadata": {
        "id": "jAh0Nq7Qpxcs"
      }
    },
    {
      "cell_type": "code",
      "source": [
        "def solution(n,k):\n",
        "  return [i for i in range(k, n+1, k)]"
      ],
      "metadata": {
        "id": "aSVMSSxapy4Z"
      },
      "execution_count": 14,
      "outputs": []
    },
    {
      "cell_type": "markdown",
      "source": [
        "## 08. 카운트 다운\n",
        "\n",
        "정수 start_num와 end_num가 주어질 때, start_num에서 end_num까지 1씩 감소하는 수들을 차례로 담은 리스트를 return 하도록 solution 함수를 완성해 주세요."
      ],
      "metadata": {
        "id": "MGMDn23MqxlT"
      }
    },
    {
      "cell_type": "markdown",
      "source": [
        "*my solution*"
      ],
      "metadata": {
        "id": "a_5PgfMoq-d-"
      }
    },
    {
      "cell_type": "code",
      "source": [
        "def solution(start_num, end_num):\n",
        "  return [i for i in range(start_num, end_num-1, -1)]"
      ],
      "metadata": {
        "id": "lhWof-UPq_8N"
      },
      "execution_count": 15,
      "outputs": []
    },
    {
      "cell_type": "markdown",
      "source": [
        "*other solution*"
      ],
      "metadata": {
        "id": "nTKY4xHnrGj9"
      }
    },
    {
      "cell_type": "code",
      "source": [
        "def solution(start, end):\n",
        "  return list(range(start, end-1 ,-1))"
      ],
      "metadata": {
        "id": "ZbT1G0uDrH5Z"
      },
      "execution_count": 16,
      "outputs": []
    },
    {
      "cell_type": "markdown",
      "source": [
        "## 09. 부분 문자열 이어 붙여 문자열 만들기\n",
        "\n",
        "길이가 같은 문자열 배열 my_strings와 이차원 정수 배열 parts가 매개변수로 주어집니다. parts[i]는 [s,e]의 형태로, my_strings[i]의 인덱스 s부터 인덱스 e까지의 부분 문자열을 의미합니다. 각 my_strings의 원소의 parts에 해당하는 부분 문자열을 순서대로 이어 붙인 문자열을 return 하는 solution 함수를 작성해 주세요."
      ],
      "metadata": {
        "id": "ct2slmVnsMA4"
      }
    },
    {
      "cell_type": "markdown",
      "source": [
        "*my solution*"
      ],
      "metadata": {
        "id": "x54KtkPVsp9I"
      }
    },
    {
      "cell_type": "code",
      "source": [
        "def solution(my_strings, parts):\n",
        "  answer = ''\n",
        "  for i,x in zip(my_strings, parts):\n",
        "    answer += i[x[0]:x[1]+1]\n",
        "  return answer"
      ],
      "metadata": {
        "id": "mjJdNTK3ssjJ"
      },
      "execution_count": 17,
      "outputs": []
    }
  ]
}