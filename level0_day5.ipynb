{
  "nbformat": 4,
  "nbformat_minor": 0,
  "metadata": {
    "colab": {
      "provenance": [],
      "authorship_tag": "ABX9TyNcXRciyjxWQwMgZgFgx4xt",
      "include_colab_link": true
    },
    "kernelspec": {
      "name": "python3",
      "display_name": "Python 3"
    },
    "language_info": {
      "name": "python"
    }
  },
  "cells": [
    {
      "cell_type": "markdown",
      "metadata": {
        "id": "view-in-github",
        "colab_type": "text"
      },
      "source": [
        "<a href=\"https://colab.research.google.com/github/miinseo324/programmers_python/blob/main/level0_day5.ipynb\" target=\"_parent\"><img src=\"https://colab.research.google.com/assets/colab-badge.svg\" alt=\"Open In Colab\"/></a>"
      ]
    },
    {
      "cell_type": "markdown",
      "source": [
        "## 01. 수 조작하기 1\n",
        "\n",
        "정수 n과 문자열 control이 주어집니다. control은 \"w\", \"a\", \"s\", \"d\"의 4개의 문자로 이루어져 있으며, control의 앞에서부터 순서대로 문자에 따라 n의 값을 바꿉니다."
      ],
      "metadata": {
        "id": "Z-2Aigw6so34"
      }
    },
    {
      "cell_type": "markdown",
      "source": [
        "*my solution*"
      ],
      "metadata": {
        "id": "H1HOjX3Os9cR"
      }
    },
    {
      "cell_type": "code",
      "source": [
        "def solution(n, control):\n",
        "  return n+control.count(\"w\")*1-control.count(\"s\")*1+control.count(\"d\")*10-control.count(\"a\")*10"
      ],
      "metadata": {
        "id": "f9Ju73Jgs6wD"
      },
      "execution_count": 1,
      "outputs": []
    },
    {
      "cell_type": "markdown",
      "source": [
        "*other solution*"
      ],
      "metadata": {
        "id": "G5amFaVutM16"
      }
    },
    {
      "cell_type": "code",
      "execution_count": 2,
      "metadata": {
        "id": "1IckYTcPrt2z"
      },
      "outputs": [],
      "source": [
        "def solution(n, control):\n",
        "  key = dict(zip(['w', 's', 'd', 'a'], [1, -1, 10, -10]))\n",
        "  return n + sum([key[c] for c in control])"
      ]
    },
    {
      "cell_type": "markdown",
      "source": [
        "zip으로 묶어서 대응시킨 후, 딕셔너리로 만들었다.\n",
        "그리고 sum을 사용해서 계속 더하게 한 후, 리턴함"
      ],
      "metadata": {
        "id": "i-kPvTOjte0w"
      }
    },
    {
      "cell_type": "markdown",
      "source": [
        "## 02. 짝수 홀수 개수\n",
        "\n",
        "정수가 담긴 리스트 num_list가 주어질 때, num_list의 원소 중 짝수와 홀수의 개수를 담은 배열을 returnr 하도록 solution 함수를 완성해 보세요."
      ],
      "metadata": {
        "id": "XyN6uDu_txiw"
      }
    },
    {
      "cell_type": "markdown",
      "source": [
        "*my solution*"
      ],
      "metadata": {
        "id": "HBBB-r-PuUvf"
      }
    },
    {
      "cell_type": "code",
      "source": [
        "def solution(num_list):\n",
        "  answer = [0,0]\n",
        "  for i in num_list:\n",
        "    if i%2 == 0:\n",
        "      answer[0] += 1\n",
        "    else:\n",
        "      answer[1] += 1\n",
        "  return answer"
      ],
      "metadata": {
        "id": "YW1phcRquWWZ"
      },
      "execution_count": 3,
      "outputs": []
    },
    {
      "cell_type": "markdown",
      "source": [
        "*other solution*"
      ],
      "metadata": {
        "id": "z3rUvW-MulWg"
      }
    },
    {
      "cell_type": "code",
      "source": [
        "def solution(num_list):\n",
        "  answer = [0,0]\n",
        "  for n in num_list:\n",
        "    answer[n%2] += 1\n",
        "  return answer"
      ],
      "metadata": {
        "id": "_5ihlOqNunXC"
      },
      "execution_count": 4,
      "outputs": []
    },
    {
      "cell_type": "markdown",
      "source": [
        "answer = [0,0]으로 [짝수의 개수, 홀수의 개수]로 되어있다.\n",
        "\n",
        "짝수의 개수의 인덱스는 0이고 홀수의 개수의 인덱스는 1이므로\n",
        "단순하게 짝수 홀수 n%2 연산을 해도, 짝수는 0 그리고 홀수는 1이다.\n",
        "\n",
        "이를 이용해서 간단하게 구현"
      ],
      "metadata": {
        "id": "EkU6Ejw1uvLA"
      }
    },
    {
      "cell_type": "markdown",
      "source": [
        "## 03. l로 만들기\n",
        "\n",
        "알파벳 소문자로 이루어진 문자열 myString이 주어집니다. 알파벳 순서에서 \"l\"보다 앞서는 모든 문자를 \"l\"로 바꾼 문자열을 return 하는 solution 함수를 완성해 주세요."
      ],
      "metadata": {
        "id": "viVFmarCu_ai"
      }
    },
    {
      "cell_type": "markdown",
      "source": [
        "*my solution*"
      ],
      "metadata": {
        "id": "dTvg9LqWv-Bq"
      }
    },
    {
      "cell_type": "code",
      "source": [
        "def solution(myString):\n",
        "  answer = ''\n",
        "  for i in myString:\n",
        "    if i in 'abcdefghijk':\n",
        "      answer += 'l'\n",
        "    else:\n",
        "      answer += i\n",
        "  return answer"
      ],
      "metadata": {
        "id": "_PQluqSAv_ju"
      },
      "execution_count": 5,
      "outputs": []
    },
    {
      "cell_type": "markdown",
      "source": [
        "*other solution*"
      ],
      "metadata": {
        "id": "j58rpFxVwe1f"
      }
    },
    {
      "cell_type": "code",
      "source": [
        "def solution(myString):\n",
        "  return myString.translate(str.maketrans('abcdefghijk','lllllllllll'))"
      ],
      "metadata": {
        "id": "uvefolqEwlrk"
      },
      "execution_count": 7,
      "outputs": []
    },
    {
      "cell_type": "markdown",
      "source": [
        "**maketrans() : 문자열 치환 함수**\n",
        "\n",
        "str.maketrans('바꾸기전문자열', '바꾼후 문자열')\n",
        "str.maketrans('바꿀문자들', '대응하는문자들(바꿀)')\n",
        "\n",
        "변수의 개수가 같아야한다.\n",
        "\n",
        "그런데, maketrans를 사용할 때, translate를 함께 써야한다.\n",
        "어떻게 변환할 것인지에 대해 str.maketrans로 선언, translate 함수로 감싸서 최종 변환\n",
        "\n",
        "문자열명.translate(str.maketrans(변환시킬 문자 모음, 변환될 문자 모음))"
      ],
      "metadata": {
        "id": "57bwWt2_wx7B"
      }
    },
    {
      "cell_type": "markdown",
      "source": [
        "## 04. 공배수\n",
        "\n",
        "정수 number와 n, m이 주어집니다. number가 n의 배수이면서 m의 배수이면 1을, 아니라면 0을 return 하도록 solution 함수를 완성해 주세요."
      ],
      "metadata": {
        "id": "pGeDXZFyxbxd"
      }
    },
    {
      "cell_type": "markdown",
      "source": [
        "*my solution*"
      ],
      "metadata": {
        "id": "4v4-ZyFNCly1"
      }
    },
    {
      "cell_type": "code",
      "source": [
        "def solution(number, n, m):\n",
        "  return int(number%n == 0 and number%m==0)"
      ],
      "metadata": {
        "id": "SkRuC1vLCogv"
      },
      "execution_count": 8,
      "outputs": []
    },
    {
      "cell_type": "markdown",
      "source": [
        "True = 1, False = 0 을 의미한다.\n",
        "\n",
        "**Boolean**\n",
        "\n",
        ": 자료형의 한 종류, True와 False만 담을 수 있다.\n",
        "\n",
        "*and (논리 곱 연산자)*\n",
        "\n",
        "- True and True : True\n",
        "- True and False : False\n",
        "- False and True : False\n",
        "- False and False : False\n",
        "\n",
        "*or (논리 합 연산자)*\n",
        "\n",
        "- True or True : True\n",
        "- True or False : True\n",
        "- False or True : True\n",
        "- False or False : False\n",
        "\n",
        "*not (논리 부정 연산자)*\n",
        "\n",
        "- not True : False\n",
        "- not False : True\n",
        "\n",
        "*nand (부정 논리 곱 연산자)*\n",
        "\n",
        "- True nand True : False\n",
        "- True nand False : True\n",
        "- False nand True : True\n",
        "- False nand False : True\n",
        "\n",
        "*nor (부정 논리 합 연산자)*\n",
        "\n",
        "- True nor True : False\n",
        "- True nor False : False\n",
        "- False nor True : False\n",
        "- False nor False : True\n",
        "\n",
        "*xor (배타적 논리 합 연산자)*\n",
        "\n",
        "- True xor True : False\n",
        "- True xor False : True\n",
        "- False xor True : True\n",
        "- False xor False : False"
      ],
      "metadata": {
        "id": "nWjSE4UiDBLk"
      }
    },
    {
      "cell_type": "markdown",
      "source": [
        "## 05. 문자열 안에 문자열\n",
        "\n",
        "문자열 str1, str2가 매개변수로 주어집니다. str1 안에 str2가 있다면 1을, 없다면 2를 return 하도록 solution 함수를 완성해주세요."
      ],
      "metadata": {
        "id": "5rUi46QQxSlx"
      }
    },
    {
      "cell_type": "markdown",
      "source": [
        "*my solution*"
      ],
      "metadata": {
        "id": "wRZdciMDFAP-"
      }
    },
    {
      "cell_type": "code",
      "source": [
        "def solution(str1, str2):\n",
        "  return 1 if str2 in str1 else 2"
      ],
      "metadata": {
        "id": "A7RdXX1pFBgz"
      },
      "execution_count": 9,
      "outputs": []
    },
    {
      "cell_type": "markdown",
      "source": [
        "## 06. 두 수의 차\n",
        "\n",
        "정수 num1과 num2가 주어질 때, num1에서 num2를 뺀 값을 return 하도록 solution 함수를 완성해주세요."
      ],
      "metadata": {
        "id": "Ht6rxaXaF050"
      }
    },
    {
      "cell_type": "code",
      "source": [
        "solution = lambda num1, num2 : num1+num2"
      ],
      "metadata": {
        "id": "dakmzS8AF-jI"
      },
      "execution_count": 10,
      "outputs": []
    },
    {
      "cell_type": "markdown",
      "source": [
        "이렇게 간단하게 람다 함수를 사용해서 해결할 수도 있음"
      ],
      "metadata": {
        "id": "nBt1zuFCGDFg"
      }
    },
    {
      "cell_type": "markdown",
      "source": [
        "## 07. 제곱수 판별하기\n",
        "\n",
        "어떤 자연수를 곱했을 때 나오는 정수를 제곱수라고 합니다. 정수 n이 매개변수로 주어질 때, n이 제곱수라면 1을, 아니라면 2를 return 하도록 solution 함수를 완성해주세요."
      ],
      "metadata": {
        "id": "y0BLFTqiGF6q"
      }
    },
    {
      "cell_type": "markdown",
      "source": [
        "*my solution*"
      ],
      "metadata": {
        "id": "0-wbJ6uqIZ8D"
      }
    },
    {
      "cell_type": "code",
      "source": [
        "def solution(n):\n",
        "  if n**(1/2) == int(n**(1/2)):\n",
        "    return 1\n",
        "  else:\n",
        "    return 2"
      ],
      "metadata": {
        "id": "OCURxWs8IbY4"
      },
      "execution_count": 11,
      "outputs": []
    },
    {
      "cell_type": "markdown",
      "source": [
        "*other solution*"
      ],
      "metadata": {
        "id": "m40z2NtNIlI8"
      }
    },
    {
      "cell_type": "code",
      "source": [
        "def solution(n):\n",
        "  return 1 if (n**0.5).is_integer() else 2"
      ],
      "metadata": {
        "id": "QB80uWRmIm32"
      },
      "execution_count": 12,
      "outputs": []
    },
    {
      "cell_type": "markdown",
      "source": [
        "**is_integer()** : 자연수인지 확인"
      ],
      "metadata": {
        "id": "FodlrquiItg6"
      }
    }
  ]
}