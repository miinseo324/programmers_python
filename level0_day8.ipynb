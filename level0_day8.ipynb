{
  "nbformat": 4,
  "nbformat_minor": 0,
  "metadata": {
    "colab": {
      "provenance": [],
      "authorship_tag": "ABX9TyOxBGAZxy7w3bQ/P5AqYZ1v",
      "include_colab_link": true
    },
    "kernelspec": {
      "name": "python3",
      "display_name": "Python 3"
    },
    "language_info": {
      "name": "python"
    }
  },
  "cells": [
    {
      "cell_type": "markdown",
      "metadata": {
        "id": "view-in-github",
        "colab_type": "text"
      },
      "source": [
        "<a href=\"https://colab.research.google.com/github/miinseo324/programmers_python/blob/main/level0_day8.ipynb\" target=\"_parent\"><img src=\"https://colab.research.google.com/assets/colab-badge.svg\" alt=\"Open In Colab\"/></a>"
      ]
    },
    {
      "cell_type": "markdown",
      "source": [
        "## 01. 중복된 문자 제거\n",
        "\n",
        "문자열 my_string이 매개변수로 주어집니다. my_string에서 중복된 문자를 제거하고 하나의 문자만 남긴 문자열을 return 하도록 solution 함수를 완성해 주세요."
      ],
      "metadata": {
        "id": "4n5kGvt1ydDk"
      }
    },
    {
      "cell_type": "markdown",
      "source": [
        "*my solution*"
      ],
      "metadata": {
        "id": "CFZde0Z8zWMP"
      }
    },
    {
      "cell_type": "code",
      "source": [
        "def solution(my_string):\n",
        "  answer = ''\n",
        "  for i in my_string:\n",
        "    if i not in answer:\n",
        "      answer += i\n",
        "  return answer"
      ],
      "metadata": {
        "id": "Mp-cPVTizXZb"
      },
      "execution_count": 1,
      "outputs": []
    },
    {
      "cell_type": "markdown",
      "source": [
        "*other solution*"
      ],
      "metadata": {
        "id": "M9uOjVixzd91"
      }
    },
    {
      "cell_type": "code",
      "execution_count": 2,
      "metadata": {
        "id": "pXMGL848sfMB"
      },
      "outputs": [],
      "source": [
        "def solution(my_string):\n",
        "  return ''.join(dict.fromkeys(my_string))"
      ]
    },
    {
      "cell_type": "markdown",
      "source": [
        "**dict.fromkeys**\n",
        "\n",
        "dict.fromkeys(keys, value) : 각 키에 대해 value값이 0인 새로운 딕셔너리를 생성"
      ],
      "metadata": {
        "id": "-MVlb9TI0VWX"
      }
    },
    {
      "cell_type": "markdown",
      "source": [
        "## 02. 날짜 비교하기\n",
        "\n",
        "정수 배열 date1과 date2가 주어집니다. 두 배열은 각각 날짜를 나타내며 [year, month, day] 꼴로 주어집니다. 각 배열에서 year는 연도를, month는 월을, day는 날짜를 나타냅니다."
      ],
      "metadata": {
        "id": "31fsSReC0qpG"
      }
    },
    {
      "cell_type": "markdown",
      "source": [
        "*my solution*"
      ],
      "metadata": {
        "id": "tV-AyQD014xG"
      }
    },
    {
      "cell_type": "code",
      "source": [
        "def solution(date1, date2):\n",
        "  if date1[0] != date2[0]:\n",
        "    return int(date1[0]<date2[0])\n",
        "  else:\n",
        "    if date1[1] != date2[1]:\n",
        "      return int(date1[1]<date2[1])\n",
        "    else:\n",
        "      return int(date1[2]<date2[2])"
      ],
      "metadata": {
        "id": "ps5dIGHj16BH"
      },
      "execution_count": 3,
      "outputs": []
    },
    {
      "cell_type": "markdown",
      "source": [
        "*other solution*"
      ],
      "metadata": {
        "id": "VFYBVP2m2KeQ"
      }
    },
    {
      "cell_type": "code",
      "source": [
        "def solution(date1, date2):\n",
        "  return int(date1 < date2)"
      ],
      "metadata": {
        "id": "F-O3eQuU2MhJ"
      },
      "execution_count": 4,
      "outputs": []
    },
    {
      "cell_type": "markdown",
      "source": [
        "**리스트 간에도 부등호 사용이 가능하다**"
      ],
      "metadata": {
        "id": "UJpZFy8D2RFT"
      }
    },
    {
      "cell_type": "markdown",
      "source": [
        "## 03. 빈 배열에 추가, 삭제하기\n",
        "\n",
        "아무 원소도 들어있지 않은 빈 배열 X가 있습니다. 길이가 같은 정수 배열 arr과 boolean 배열 flag가 매개변수로 주어질 때, flag를 차례대로 순회하며 flag[i]가 true라면 X 뒤에 arr[i]를 arr[i]*2번 추가하고, flag[i]가 false라면 X에서 마지막 arr[i]개의 원소를 제거한 뒤 X를 return 하는 solution 함수를 작성해 주세요."
      ],
      "metadata": {
        "id": "Gh6D569o4BLu"
      }
    },
    {
      "cell_type": "markdown",
      "source": [
        "*my solution*"
      ],
      "metadata": {
        "id": "rHabe7R84eYG"
      }
    },
    {
      "cell_type": "code",
      "source": [
        "def solution(arr, flag):\n",
        "  answer = []\n",
        "  for a, b in zip(arr, flag):\n",
        "    if b==True:\n",
        "      for i in range(2*a):\n",
        "        answer.append(a)\n",
        "      else:\n",
        "        for i in range(a):\n",
        "          answer.pop()\n",
        "  return answer"
      ],
      "metadata": {
        "id": "N_LdLVb_4frh"
      },
      "execution_count": 5,
      "outputs": []
    },
    {
      "cell_type": "markdown",
      "source": [
        "*other solution*"
      ],
      "metadata": {
        "id": "Vhihe1Gj45aF"
      }
    },
    {
      "cell_type": "code",
      "source": [
        "def solution(arr, flag):\n",
        "  arr1 = []\n",
        "  for i, j in zip(arr, flag):\n",
        "    if j:\n",
        "      arr1 += [i]*i*2\n",
        "    else:\n",
        "      arr1 = arr1[:-i]\n",
        "  return arr1"
      ],
      "metadata": {
        "id": "rvt5rCrs47Fb"
      },
      "execution_count": 6,
      "outputs": []
    },
    {
      "cell_type": "markdown",
      "source": [
        "## 04. 글자 지우기\n",
        "\n",
        "문자열 my_string과 정수 배열 indices가 주어질 때, my_string에서 indices의 원소에 해당하는 인덱스의 글자를 지우고 이어 붙인 문자열을 return 하는 solution 함수를 작성해 주세요"
      ],
      "metadata": {
        "id": "9qkwS8Ck9Kas"
      }
    },
    {
      "cell_type": "markdown",
      "source": [
        "*my solution*"
      ],
      "metadata": {
        "id": "OapaT7_Q9VqA"
      }
    },
    {
      "cell_type": "code",
      "source": [
        "def solution(my_string, indices):\n",
        "  answer = ''\n",
        "  cnt = 0\n",
        "  for i in my_string:\n",
        "    if cnt not in indices:\n",
        "      answer += i\n",
        "  return answer"
      ],
      "metadata": {
        "id": "s6iTK-JZ9XA1"
      },
      "execution_count": 7,
      "outputs": []
    },
    {
      "cell_type": "markdown",
      "source": [
        "*other solution*"
      ],
      "metadata": {
        "id": "mvs5dOF59gvB"
      }
    },
    {
      "cell_type": "code",
      "source": [
        "def solution(my_string, indices):\n",
        "  answer = ''\n",
        "  for i in range(len(my_string)):\n",
        "    if i not in indices:\n",
        "      answer += my_string[i]\n",
        "  return answer"
      ],
      "metadata": {
        "id": "YnoXgJXk9h76"
      },
      "execution_count": 8,
      "outputs": []
    },
    {
      "cell_type": "markdown",
      "source": [
        "## 05. 문자열 뒤집기\n",
        "\n",
        "문자열 my_string과 정수 s, e가 매개변수로 주어질 때, my_string에서 인덱스 s부터 인덱스 e까지를 뒤집은 문자열을 return 하는 solution 함수를 작성해 주세요"
      ],
      "metadata": {
        "id": "feemXYScfuGh"
      }
    },
    {
      "cell_type": "markdown",
      "source": [
        "*my solution*"
      ],
      "metadata": {
        "id": "qBVL6HIkf6By"
      }
    },
    {
      "cell_type": "code",
      "source": [
        "def solution(my_string, s, e):\n",
        "  return my_string[:s]+my_string[s:e+1][::-1]+my_string[e+1:]"
      ],
      "metadata": {
        "id": "On1Aznbmf7du"
      },
      "execution_count": 9,
      "outputs": []
    },
    {
      "cell_type": "markdown",
      "source": [
        "처음에는 중간에 있는 my_string[s:e+1][::-1]를 my_string[s:e+1:-1]로 작성했었는데 계속 오류가 났었다\n",
        "\n",
        "이렇게 합칠 경우, s가 0이 되면 제대로 실행이 안되서인 것 같다"
      ],
      "metadata": {
        "id": "U5aQ0LjyguA6"
      }
    },
    {
      "cell_type": "markdown",
      "source": [
        "## 06. A로 B 만들기\n",
        "\n",
        "문자열 before와 after가 매개변수로 주어질 때, before의 순서를 바꾸어 after를 만들 수 있으면 1을, 만들 수 없으면 0을 return 하도록 solution 함수를 완성해 보세요"
      ],
      "metadata": {
        "id": "p7_fhr4RhGqj"
      }
    },
    {
      "cell_type": "markdown",
      "source": [
        "*my solution*"
      ],
      "metadata": {
        "id": "cycB13S6lN58"
      }
    },
    {
      "cell_type": "code",
      "source": [
        "def solution(before, after):\n",
        "  return int(sorted(before)==sorted(after))"
      ],
      "metadata": {
        "id": "s-s51D4HlPng"
      },
      "execution_count": 10,
      "outputs": []
    },
    {
      "cell_type": "markdown",
      "source": [
        "boolean 사용해서 결과값 내는 거 좋은 것 같다"
      ],
      "metadata": {
        "id": "ML6-ozmglUtl"
      }
    },
    {
      "cell_type": "markdown",
      "source": [
        "## 07. 2차원으로 만들기\n",
        "\n",
        "정수 배열 num_list와 정수 n이 매개변수로 주어집니다. num_list를 다음 설명과 같이 2차원 배열로 바꿔 return 하도록 solution 함수를 완성해주세요.\n",
        "\n",
        "num_list가 [1,2,3,4,5,6,7,8]로 길이가 8이고 n이 2이므로 num_list를 2*4 배열로 다음과 같이 변경합니다. 2차원으로 바꿀 때에는 num_list의 원소들을 앞에서부터 n개씩 나눠 2차원 배열로 변경합니다."
      ],
      "metadata": {
        "id": "QxdK70EMlX18"
      }
    },
    {
      "cell_type": "markdown",
      "source": [
        "*my solution*"
      ],
      "metadata": {
        "id": "KAPgcA7dZ-Kq"
      }
    },
    {
      "cell_type": "code",
      "source": [
        "def solution(num_list, n):\n",
        "  answer = []\n",
        "  for i in range(int(len(num_list)/n)):\n",
        "    answer.append(num_list[i*n:i*n+n])\n",
        "  return answer"
      ],
      "metadata": {
        "id": "e_qv9lRVaAcw"
      },
      "execution_count": 1,
      "outputs": []
    },
    {
      "cell_type": "markdown",
      "source": [
        "*other solution*"
      ],
      "metadata": {
        "id": "b_WqELx-aTLJ"
      }
    },
    {
      "cell_type": "code",
      "source": [
        "def solution(num_list, n):\n",
        "  answer = []\n",
        "  for i in range(0, len(num_list), n):\n",
        "    answer.append(num_list[i:i+n])\n",
        "  return answer"
      ],
      "metadata": {
        "id": "tNnBxCo7aU0W"
      },
      "execution_count": 2,
      "outputs": []
    },
    {
      "cell_type": "markdown",
      "source": [
        "## 08. 진료 순서 정하기\n",
        "\n",
        "외과의사 머쓱이는 응급실에 온 환자의 응급도를 기준으로 진료 순서를 정하려고 합니다. 정수 배열 emergency가 매개변수로 주어질 때 응급도가 높은 순서대로 진료 순서를 정한 배열을 return 하도록 solution 함수를 완성해 주세요"
      ],
      "metadata": {
        "id": "1-8DuZ1YdiVb"
      }
    },
    {
      "cell_type": "markdown",
      "source": [
        "*my solution*"
      ],
      "metadata": {
        "id": "AdnArFPZdvlZ"
      }
    },
    {
      "cell_type": "code",
      "source": [
        "def solution(emergency):\n",
        "  answer1= []\n",
        "  answer2= []\n",
        "\n",
        "  answer1 = sorted(emergency, reverse=True)\n",
        "  for i in emergency:\n",
        "    answer2.append(answer1.index(i)+1)\n",
        "  return answer2"
      ],
      "metadata": {
        "id": "19BkvB3odwzF"
      },
      "execution_count": 3,
      "outputs": []
    },
    {
      "cell_type": "markdown",
      "source": [
        "*other solution*"
      ],
      "metadata": {
        "id": "4ALnobetd9Rf"
      }
    },
    {
      "cell_type": "code",
      "source": [
        "def solution(emergency):\n",
        "  return [sorted(emergency, reverse=True).index(e)+1 for e in emergency]"
      ],
      "metadata": {
        "id": "hl5-yO4pd-ue"
      },
      "execution_count": 4,
      "outputs": []
    }
  ]
}