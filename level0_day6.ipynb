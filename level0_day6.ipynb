{
  "nbformat": 4,
  "nbformat_minor": 0,
  "metadata": {
    "colab": {
      "provenance": [],
      "authorship_tag": "ABX9TyPZLx4kVUA9Qgywu1+VR0oZ",
      "include_colab_link": true
    },
    "kernelspec": {
      "name": "python3",
      "display_name": "Python 3"
    },
    "language_info": {
      "name": "python"
    }
  },
  "cells": [
    {
      "cell_type": "markdown",
      "metadata": {
        "id": "view-in-github",
        "colab_type": "text"
      },
      "source": [
        "<a href=\"https://colab.research.google.com/github/miinseo324/programmers_python/blob/main/level0_day6.ipynb\" target=\"_parent\"><img src=\"https://colab.research.google.com/assets/colab-badge.svg\" alt=\"Open In Colab\"/></a>"
      ]
    },
    {
      "cell_type": "markdown",
      "source": [
        "## 01. 카운트 업\n",
        "\n",
        "정수 start_num와 end_num이 주어질 떄, start_num부터 end_num까지의 숫자를 차례로 담은 리스트를 return 하도록 solution 함수를 완성해 주세요."
      ],
      "metadata": {
        "id": "CCsH0KAp9JAe"
      }
    },
    {
      "cell_type": "markdown",
      "source": [
        "*my solution*"
      ],
      "metadata": {
        "id": "bimYu-ZO9Iqd"
      }
    },
    {
      "cell_type": "code",
      "execution_count": 1,
      "metadata": {
        "id": "jeg-c4tl7hjp"
      },
      "outputs": [],
      "source": [
        "def solution(start_num, end_num):\n",
        "  return [i for i in range(start_num, end_num+1)]"
      ]
    },
    {
      "cell_type": "markdown",
      "source": [
        "*other solution*"
      ],
      "metadata": {
        "id": "fh8qHdCnFj-6"
      }
    },
    {
      "cell_type": "code",
      "source": [
        "def solution(start, end):\n",
        "  return list(range(start, end+1))"
      ],
      "metadata": {
        "id": "01TxJCf6FmbW"
      },
      "execution_count": 2,
      "outputs": []
    },
    {
      "cell_type": "markdown",
      "source": [
        "list로 괄호치고, range를 바로 사용해서(범위 설정) 값을 넣을 수도 있다."
      ],
      "metadata": {
        "id": "Ze5_3wdrFtnd"
      }
    },
    {
      "cell_type": "markdown",
      "source": [
        "## 02. 가까운 1 찾기\n",
        "\n",
        "정수 배열 arr가 주어집니다. 이 때 arr의 원소는 1 또는 0 입니다. 정수 idx가 주어졌을 때, idx보다 크면서 배열의 값이 1인 가장 작은 인덱스를 찾아서 반환하는 solution 함수를 완성해 주세요."
      ],
      "metadata": {
        "id": "PayOH9pKF0Ar"
      }
    },
    {
      "cell_type": "markdown",
      "source": [
        "*my solution*"
      ],
      "metadata": {
        "id": "xQ_jBlktHwbW"
      }
    },
    {
      "cell_type": "code",
      "source": [
        "def solution(arr, idx):\n",
        "  if 1 in arr[idx:]:\n",
        "    return arr[idx:].index(1)+idx\n",
        "  else:\n",
        "    return -1"
      ],
      "metadata": {
        "id": "nlRiQQuRHxz7"
      },
      "execution_count": 3,
      "outputs": []
    },
    {
      "cell_type": "markdown",
      "source": [
        "*other solution*"
      ],
      "metadata": {
        "id": "tDaBD1jAH-c6"
      }
    },
    {
      "cell_type": "code",
      "source": [
        "def solution(arr, idx):\n",
        "  answer = 0\n",
        "  try:\n",
        "    return arr.index(1, idx)\n",
        "  except:\n",
        "    return -1"
      ],
      "metadata": {
        "id": "B1-fcUVeIAzD"
      },
      "execution_count": 4,
      "outputs": []
    },
    {
      "cell_type": "markdown",
      "source": [
        "## 03. 약수 구하기\n",
        "\n",
        "정수 n이 매개변수로 이루어질 때, n의 약수를 오름차순으로 담은 배열을 return 하도록 solution 함수를 완성해주세요."
      ],
      "metadata": {
        "id": "r-Of7ojoFl_y"
      }
    },
    {
      "cell_type": "markdown",
      "source": [
        "*my solution*"
      ],
      "metadata": {
        "id": "7uQNyQnpJB8-"
      }
    },
    {
      "cell_type": "code",
      "source": [
        "def solution(n):\n",
        "  return [i for i in range(1, n+1) if n%i==0]"
      ],
      "metadata": {
        "id": "fUGEBwNkJDSq"
      },
      "execution_count": 5,
      "outputs": []
    },
    {
      "cell_type": "markdown",
      "source": [
        "## 04. 홀수 VS 짝수\n",
        "\n",
        "정수 리스트 num_list가 주어집니다. 가장 첫 번째 원소를 1번 원소라고 할 때, 홀수번째 원소들의 합과 짝수 번째 원소들의 합 중 가장 큰 값을 return 하도록 solution 함수를 완성해주세요. 두 값이 같을 경우 그 값을 return 합니다."
      ],
      "metadata": {
        "id": "sWtj-4HoNU1V"
      }
    },
    {
      "cell_type": "markdown",
      "source": [
        "*my solution - failed*"
      ],
      "metadata": {
        "id": "3YHW21afNjpH"
      }
    },
    {
      "cell_type": "code",
      "source": [
        "def solution(num_list):\n",
        "  return max(sum(num_list[0:len(num_list)-1:2]), sum(num_list[1:len(num_list)]))"
      ],
      "metadata": {
        "id": "NZF7C-osNk3z"
      },
      "execution_count": null,
      "outputs": []
    },
    {
      "cell_type": "markdown",
      "source": [
        "*other solution - success*"
      ],
      "metadata": {
        "id": "IOTOsw4XOpYR"
      }
    },
    {
      "cell_type": "code",
      "source": [
        "def solution(num_list):\n",
        "  return max(sum(num_list[0::2]), sum(num_list[1::2]))"
      ],
      "metadata": {
        "id": "9vXdxfuqOuSz"
      },
      "execution_count": 6,
      "outputs": []
    },
    {
      "cell_type": "markdown",
      "source": [
        "## 05. 피자 나눠 먹기(2)\n",
        "\n",
        "머쓱이네 피자가게는 피자를 여섯 조각으로 잘라 줍니다. 피자를 나눠먹을 사람의 수 n이 매개변수로 주어질 때, n명이 주문한 피자를 남기지 않고 모두 같은 수의 피자 조각을 먹어야 한다면 최소 몇 판을 시켜야 하는지를 return 하도록 solution 함수를 완성해보세요."
      ],
      "metadata": {
        "id": "CWXwUunKPcHO"
      }
    },
    {
      "cell_type": "markdown",
      "source": [
        "*my solution*"
      ],
      "metadata": {
        "id": "jmdKQG3CPsVv"
      }
    },
    {
      "cell_type": "code",
      "source": [
        "def solution(n):\n",
        "  if n%6==0:\n",
        "    return n//6\n",
        "  elif n%3==0:\n",
        "    return n*2//6\n",
        "  elif n%2==0:\n",
        "    return n*3//6\n",
        "  else:\n",
        "    return n"
      ],
      "metadata": {
        "id": "BSljtxrhPykW"
      },
      "execution_count": 7,
      "outputs": []
    },
    {
      "cell_type": "markdown",
      "source": [
        "*other solution*"
      ],
      "metadata": {
        "id": "GlK5ilPrQAkV"
      }
    },
    {
      "cell_type": "code",
      "source": [
        "def solution(n):\n",
        "  i=1\n",
        "  while(1):\n",
        "    if (6*i)%n==0:\n",
        "      return i\n",
        "    i+=1"
      ],
      "metadata": {
        "id": "UKnaj44SQCP4"
      },
      "execution_count": 8,
      "outputs": []
    },
    {
      "cell_type": "markdown",
      "source": [
        "## 06. 배열 회전시키기\n",
        "\n",
        "정수가 담긴 배열 numbers와 문자열 direction가 매개변수로 주어집니다. 배열 numbers의 원소를 direction 방향으로 한 칸씩 회전시킨 배열을 return 하도록 solution 함수를 완성해주세요."
      ],
      "metadata": {
        "id": "O8GvHlYzSONA"
      }
    },
    {
      "cell_type": "markdown",
      "source": [
        "*my solution*"
      ],
      "metadata": {
        "id": "Zks2PeJvSc-n"
      }
    },
    {
      "cell_type": "code",
      "source": [
        "def solution(numbers, direction):\n",
        "  if direction == \"right\":\n",
        "    return [numbers[-1]] + numbers[:-1]\n",
        "  else:\n",
        "    return numbers[1:] + [numbers[0]]"
      ],
      "metadata": {
        "id": "tJTtp19qSc1U"
      },
      "execution_count": 9,
      "outputs": []
    },
    {
      "cell_type": "markdown",
      "source": [
        "## 07. 특별한 이차원 배열 2\n",
        "\n",
        "n X n 크기의 이차원 배열 arr이 매개변수로 주어질 때, arr이 다음을 만족하면 1을, 아니라면 0을 return 하는 solution 함수를 작성해 주세요."
      ],
      "metadata": {
        "id": "GWjXUVJoV4Kp"
      }
    },
    {
      "cell_type": "markdown",
      "source": [
        "*my solution*"
      ],
      "metadata": {
        "id": "2vnzYbs_WXoZ"
      }
    },
    {
      "cell_type": "code",
      "source": [
        "def solution(arr):\n",
        "  for i in range(len(arr)):\n",
        "    for j in range(len(arr)):\n",
        "      if arr[i][j] != arr[j][i]:\n",
        "        return 0\n",
        "  return 1"
      ],
      "metadata": {
        "id": "3m2xo-66WZK5"
      },
      "execution_count": 10,
      "outputs": []
    },
    {
      "cell_type": "markdown",
      "source": [
        "*other solution*"
      ],
      "metadata": {
        "id": "GhBMNHLQW0I5"
      }
    },
    {
      "cell_type": "code",
      "source": [
        "def solution(arr):\n",
        "  return int(arr == list(map(list, zip(*arr))))"
      ],
      "metadata": {
        "id": "eucxEmxtXu_F"
      },
      "execution_count": 11,
      "outputs": []
    }
  ]
}